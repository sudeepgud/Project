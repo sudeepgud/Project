{
 "cells": [
  {
   "cell_type": "code",
   "execution_count": 1,
   "metadata": {},
   "outputs": [
    {
     "name": "stdout",
     "output_type": "stream",
     "text": [
      "                                            document  cluster\n",
      "0  Gravity is one of the fundamental forces of na...        0\n",
      "3  Gravity received critical acclaim for its grou...        1\n",
      "2  Gravity is a universal force, meaning it acts ...        0\n",
      "1  Gravity is a 2013 science fiction thriller fil...        1\n",
      "5  The Asgardian Loki encounters the Other, the l...        1\n",
      "4  In 2018, twenty-three days after Thanos erased...        2\n"
     ]
    },
    {
     "data": {
      "image/png": "[encoded data removed]",
      "text/plain": [
       "<Figure size 640x480 with 1 Axes>"
      ]
     },
     "metadata": {},
     "output_type": "display_data"
    }
   ],
   "source": [
    "# import the necessary libraries \n",
    "import json \n",
    "import numpy as np \n",
    "import pandas as pd \n",
    "from sklearn.feature_extraction.text import TfidfVectorizer \n",
    "from sklearn.decomposition import PCA \n",
    "from sklearn.cluster import KMeans \n",
    "import matplotlib.pyplot as plt \n",
    "\n",
    "# Extract the sentence only \n",
    "sentence = [\"Gravity is one of the fundamental forces of nature, and it plays a crucial role in our understanding of the universe It is the force of attraction that exists between all objects with mass or energy. In simple terms, gravity is what keeps us anchored to the Earth and is responsible for the motion of celestial bodies like planets, stars, and galaxies.\", \"Gravity is a 2013 science fiction thriller film directed by Alfonso Cuarón. The film stars Sandra Bullock and George Clooney as astronauts who are stranded in space after their space shuttle is damaged. The movie explores their struggle for survival as they attempt to return to Earth.\", \"Gravity is a universal force, meaning it acts on all objects with mass or energy. It doesn't just apply to objects on Earth; it extends throughout the entire universe. This characteristic makes gravity unique compared to other forces like electromagnetism or the strong and weak nuclear forces, which have more limited ranges.\", \"Gravity received critical acclaim for its groundbreaking visual effects, particularly in its realistic depiction of outer space and zero-gravity environments. It won several Academy Awards, including Best Director for Alfonso Cuarón. The film is known for its tense and immersive storytelling and is considered a landmark in the science fiction genre.\", \"In 2018, twenty-three days after Thanos erased half of all life in the universe,[a] Carol Danvers rescues Tony Stark and Nebula from deep space and they reunite with the remaining Avengers—Bruce Banner, Steve Rogers, Thor, Natasha Romanoff, and James Rhodes—and Rocket on Earth. Locating Thanos on an uninhabited planet, they plan to use the Infinity Stones to reverse his actions, only to find that Thanos has already destroyed them and the Gauntlet, thus preventing any further use. Enraged, Thor decapitates Thanos.\", \"The Asgardian Loki encounters the Other, the leader of an extraterrestrial race known as the Chitauri. In exchange for retrieving the Tesseract,[c] a powerful energy source of unknown potential, the Other promises Loki an army with which he can subjugate Earth. Nick Fury, director of the espionage agency S.H.I.E.L.D., arrives at a remote research facility, where physicist Dr. Erik Selvig is leading a team experimenting on the Tesseract. The Tesseract suddenly activates and opens a wormhole, allowing Loki to reach Earth. Loki steals the Tesseract and uses his scepter to enslave Selvig and other agents, including Clint Barton, to aid him.\"]\n",
    "# create vectorizer \n",
    "vectorizer = TfidfVectorizer(stop_words='english') \n",
    "\n",
    "# vectorizer the text documents \n",
    "vectorized_documents = vectorizer.fit_transform(sentence) \n",
    "\n",
    "# reduce the dimensionality of the data using PCA \n",
    "pca = PCA(n_components=2) \n",
    "reduced_data = pca.fit_transform(vectorized_documents.toarray()) \n",
    "\n",
    "\n",
    "# cluster the documents using k-means \n",
    "num_clusters = 3\n",
    "kmeans = KMeans(n_clusters=3, n_init=5, \n",
    "\t\t\t\tmax_iter=500, random_state=42) \n",
    "kmeans.fit(vectorized_documents) \n",
    "\n",
    "\n",
    "# create a dataframe to store the results \n",
    "results = pd.DataFrame() \n",
    "results['document'] = sentence \n",
    "results['cluster'] = kmeans.labels_ \n",
    "\n",
    "# print the results \n",
    "file1 = open(\"Gravity_Clusters.txt\", \"w\")\n",
    "print(results.sample(len(results)))\n",
    "\n",
    "# plot the results \n",
    "colors = ['red', 'green', 'blue'] \n",
    "cluster = ['Cluster_1','Cluster_2', 'Cluster_3'] \n",
    "for i in range(num_clusters): \n",
    "\tplt.scatter(reduced_data[kmeans.labels_ == i, 0], \n",
    "\t\t\t\treduced_data[kmeans.labels_ == i, 1], \n",
    "\t\t\t\ts=10, color=colors[i], \n",
    "\t\t\t\tlabel=f' {cluster[i]}') \n",
    "plt.legend() \n",
    "plt.show()"
   ]
  },
  {
   "cell_type": "code",
   "execution_count": 5,
   "metadata": {},
   "outputs": [
    {
     "name": "stderr",
     "output_type": "stream",
     "text": [
      "[nltk_data] Downloading package stopwords to C:/nltk_data...\n",
      "[nltk_data]   Unzipping corpora\\stopwords.zip.\n"
     ]
    },
    {
     "data": {
      "text/plain": [
       "True"
      ]
     },
     "execution_count": 5,
     "metadata": {},
     "output_type": "execute_result"
    }
   ],
   "source": [
    "import nltk\n",
    "nltk.download('stopwords', download_dir='C:/nltk_data')"
   ]
  },
  {
   "cell_type": "code",
   "execution_count": 1,
   "metadata": {},
   "outputs": [
    {
     "name": "stdout",
     "output_type": "stream",
     "text": [
      "Document #1:\n",
      "Text processing with Python is great.\n",
      "  Topic 1: modeling, topic, collection, topics, helps (Score: 0.8536)\n",
      "\n",
      "\n",
      "Document #2:\n",
      "Natural language processing is important for machine learning.\n",
      "  Topic 2: python, language, processing, learning, natural (Score: 0.9208)\n",
      "\n",
      "\n",
      "Document #3:\n",
      "Python is a versatile programming language.\n",
      "  Topic 2: python, language, processing, learning, natural (Score: 0.8920)\n",
      "\n",
      "\n",
      "Document #4:\n",
      "Topic modeling helps in discovering hidden topics in a collection of documents.\n",
      "  Topic 1: modeling, topic, collection, topics, helps (Score: 0.9389)\n",
      "\n",
      "\n",
      "Document #5:\n",
      "Gensim is a popular library for topic modeling in Python.\n",
      "  Topic 2: python, language, processing, learning, natural (Score: 0.9077)\n",
      "\n",
      "\n"
     ]
    },
    {
     "name": "stderr",
     "output_type": "stream",
     "text": [
      "[nltk_data] Downloading package punkt to path/to/nltk_data...\n",
      "[nltk_data]   Package punkt is already up-to-date!\n",
      "[nltk_data] Downloading package stopwords to path/to/nltk_data...\n",
      "[nltk_data]   Package stopwords is already up-to-date!\n"
     ]
    }
   ],
   "source": [
    "import nltk\n",
    "from sklearn.feature_extraction.text import CountVectorizer\n",
    "from sklearn.decomposition import LatentDirichletAllocation\n",
    "import string\n",
    "\n",
    "# Download NLTK data (you can specify a different path if needed)\n",
    "nltk.download('punkt', download_dir='path/to/nltk_data')\n",
    "nltk.download('stopwords', download_dir='path/to/nltk_data')\n",
    "\n",
    "# Sample documents\n",
    "documents = [\n",
    "    \"Text processing with Python is great.\",\n",
    "    \"Natural language processing is important for machine learning.\",\n",
    "    \"Python is a versatile programming language.\",\n",
    "    \"Topic modeling helps in discovering hidden topics in a collection of documents.\",\n",
    "    \"Gensim is a popular library for topic modeling in Python.\",\n",
    "]\n",
    "\n",
    "# Tokenize and preprocess the documents\n",
    "stop_words = set(nltk.corpus.stopwords.words('english') + list(string.punctuation))\n",
    "tokenized_documents = [' '.join(nltk.word_tokenize(doc.lower())) for doc in documents]\n",
    "filtered_documents = [' '.join([word for word in doc.split() if word not in stop_words]) for doc in tokenized_documents]\n",
    "\n",
    "# Create a bag-of-words representation using CountVectorizer\n",
    "vectorizer = CountVectorizer()\n",
    "X = vectorizer.fit_transform(filtered_documents)\n",
    "\n",
    "# Build the LDA model\n",
    "lda_model = LatentDirichletAllocation(n_components=2, random_state=42)\n",
    "lda_model.fit(X)\n",
    "\n",
    "# Assign topics to each document\n",
    "document_topics = lda_model.transform(X)\n",
    "\n",
    "# Define topic labels based on top words in each topic\n",
    "topic_labels = []\n",
    "for topic_idx, topic in enumerate(lda_model.components_):\n",
    "    top_words_idx = topic.argsort()[:-5-1:-1]  # Get the indices of the top 5 words\n",
    "    top_words = [vectorizer.get_feature_names_out()[i] for i in top_words_idx]\n",
    "    topic_labels.append(f\"Topic {topic_idx + 1}: {', '.join(top_words)}\")\n",
    "\n",
    "# Select the most relevant topics for each document\n",
    "num_top_topics = 1  # Adjust the number of top topics you want to retrieve\n",
    "\n",
    "for doc_idx, doc_topics in enumerate(document_topics):\n",
    "    top_topic_indices = doc_topics.argsort()[:-num_top_topics-1:-1]\n",
    "    top_topics = [(topic_idx, doc_topics[topic_idx]) for topic_idx in top_topic_indices]\n",
    "    \n",
    "    print(f\"Document #{doc_idx + 1}:\")\n",
    "    print(documents[doc_idx])\n",
    "    for topic, score in top_topics:\n",
    "        print(f\"  {topic_labels[topic]} (Score: {score:.4f})\")\n",
    "\n",
    "    # You can further process the top topics as needed\n",
    "    print(\"\\n\")\n"
   ]
  },
  {
   "cell_type": "code",
   "execution_count": 14,
   "metadata": {},
   "outputs": [
    {
     "name": "stdout",
     "output_type": "stream",
     "text": [
      "Topic 1 - Grouped Documents:\n",
      "  Document #1: Text processing with Python is great.\n",
      "  Document #4: Topic modeling helps in discovering hidden topics in a collection of documents.\n",
      "\n",
      "\n",
      "Topic 2 - Grouped Documents:\n",
      "  Document #2: Natural language processing is important for machine learning.\n",
      "  Document #3: Python is a versatile programming language.\n",
      "  Document #5: Gensim is a popular library for topic modeling in Python.\n",
      "\n",
      "\n"
     ]
    }
   ],
   "source": [
    "import nltk\n",
    "from sklearn.feature_extraction.text import CountVectorizer\n",
    "from sklearn.decomposition import LatentDirichletAllocation\n",
    "import string\n",
    "\n",
    "# Sample documents\n",
    "documents = [\n",
    "    \"Text processing with Python is great.\",\n",
    "    \"Natural language processing is important for machine learning.\",\n",
    "    \"Python is a versatile programming language.\",\n",
    "    \"Topic modeling helps in discovering hidden topics in a collection of documents.\",\n",
    "    \"Gensim is a popular library for topic modeling in Python.\",\n",
    "]\n",
    "\n",
    "# Tokenize and preprocess the documents\n",
    "stop_words = set(nltk.corpus.stopwords.words('english') + list(string.punctuation))\n",
    "tokenized_documents = [' '.join(nltk.word_tokenize(doc.lower())) for doc in documents]\n",
    "filtered_documents = [' '.join([word for word in doc.split() if word not in stop_words]) for doc in tokenized_documents]\n",
    "\n",
    "# Create a bag-of-words representation using CountVectorizer\n",
    "vectorizer = CountVectorizer()\n",
    "X = vectorizer.fit_transform(filtered_documents)\n",
    "\n",
    "# Build the LDA model\n",
    "lda_model = LatentDirichletAllocation(n_components=2, random_state=42)\n",
    "lda_model.fit(X)\n",
    "\n",
    "# Assign topics to each document\n",
    "document_topics = lda_model.transform(X)\n",
    "\n",
    "# Group documents based on similar topics\n",
    "grouped_documents = {}\n",
    "for doc_idx, doc_topics in enumerate(document_topics):\n",
    "    top_topic_index = doc_topics.argmax()\n",
    "    \n",
    "    if top_topic_index not in grouped_documents:\n",
    "        grouped_documents[top_topic_index] = []\n",
    "    \n",
    "    grouped_documents[top_topic_index].append(doc_idx)\n",
    "\n",
    "# Print the grouped documents\n",
    "for topic, docs in grouped_documents.items():\n",
    "    print(f\"Topic {topic + 1} - Grouped Documents:\")\n",
    "    for doc_idx in docs:\n",
    "        print(f\"  Document #{doc_idx + 1}: {documents[doc_idx]}\")\n",
    "    print(\"\\n\")\n"
   ]
  }
 ],
 "metadata": {
  "kernelspec": {
   "display_name": "llama",
   "language": "python",
   "name": "python3"
  },
  "language_info": {
   "codemirror_mode": {
    "name": "ipython",
    "version": 3
   },
   "file_extension": ".py",
   "mimetype": "text/x-python",
   "name": "python",
   "nbconvert_exporter": "python",
   "pygments_lexer": "ipython3",
   "version": "3.11.7"
  }
 },
 "nbformat": 4,
 "nbformat_minor": 2
}
